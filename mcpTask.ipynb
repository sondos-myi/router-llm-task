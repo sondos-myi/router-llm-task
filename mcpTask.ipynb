{
 "cells": [
  {
   "cell_type": "code",
   "execution_count": 10,
   "id": "454256de",
   "metadata": {},
   "outputs": [],
   "source": [
    "import openai\n",
    "from PIL import Image\n",
    "import base64\n",
    "import io\n",
    "from dotenv import load_dotenv\n",
    "import os\n",
    "\n",
    "load_dotenv() \n",
    "\n",
    "api_key = os.getenv(\"OPENAI_API_KEY\")"
   ]
  },
  {
   "cell_type": "code",
   "execution_count": null,
   "id": "52becb90",
   "metadata": {},
   "outputs": [],
   "source": [
    "openai.api_key = api_key\n",
    "\n",
    "def encode_image(image_path):\n",
    "    \"\"\"Encode image to base64 for OpenAI vision API.\"\"\"\n",
    "    with open(image_path, \"rb\") as image_file:\n",
    "        return base64.b64encode(image_file.read()).decode(\"utf-8\")\n",
    "\n",
    "def router_llm(input_data):\n",
    "    \"\"\"Using GPT-3.5-turbo to decide which LLM to use.\"\"\"\n",
    "    if isinstance(input_data, str):\n",
    "        input_desc = input_data\n",
    "    elif isinstance(input_data, dict) and \"image\" in input_data:\n",
    "        input_desc = f\"Image with prompt: {input_data.get('text', '')}\"\n",
    "    else:\n",
    "        input_desc = str(input_data)\n",
    "\n",
    "    router_prompt = f\"\"\"\n",
    "You are a router LLM. Decide which model to use for the following input.\n",
    "\n",
    "Available models:\n",
    "1. Text LLM: Handles pure text input.\n",
    "2. Vision LLM: Handles images or multimodal input (image + text).\n",
    "\n",
    "Input: {input_desc}\n",
    "\n",
    "Which model should be used? Reply with only 'text' or 'vision'.\n",
    "\"\"\"\n",
    "    response = openai.chat.completions.create(\n",
    "        model=\"gpt-3.5-turbo\",\n",
    "        messages=[{\"role\": \"user\", \"content\": router_prompt}],\n",
    "        max_tokens=5,\n",
    "        temperature=0\n",
    "    )\n",
    "    choice = response.choices[0].message.content.strip().lower()\n",
    "    if \"vision\" in choice:\n",
    "        return \"vision\"\n",
    "    return \"text\"\n",
    "\n",
    "def text_llm(prompt):\n",
    "    \"\"\"Call GPT-3.5-turbo for text input.\"\"\"\n",
    "    response = openai.chat.completions.create(\n",
    "        model=\"gpt-3.5-turbo\",\n",
    "        messages=[{\"role\": \"user\", \"content\": prompt}],\n",
    "        max_tokens=256,\n",
    "        temperature=0.7\n",
    "    )\n",
    "    return response.choices[0].message.content.strip()\n",
    "\n",
    "def vision_llm(image_path, prompt):\n",
    "    \"\"\"Call GPT-4o-vision-preview for image + text input.\"\"\"\n",
    "    base64_image = encode_image(image_path)\n",
    "    response = openai.chat.completions.create(\n",
    "        model=\"gpt-4o\",\n",
    "        messages=[\n",
    "            {\"role\": \"user\", \"content\": [\n",
    "                {\"type\": \"text\", \"text\": prompt},\n",
    "                {\"type\": \"image_url\", \"image_url\": {\"url\": f\"data:image/jpeg;base64,{base64_image}\"}}\n",
    "            ]}\n",
    "        ],\n",
    "        max_tokens=256,\n",
    "        temperature=0.7\n",
    "    )\n",
    "    return response.choices[0].message.content.strip()\n",
    "\n",
    "def main_router(input_data):\n",
    "    route = router_llm(input_data)\n",
    "    if route == \"text\":\n",
    "        print(\"[Router] Using Text LLM\")\n",
    "        return text_llm(input_data if isinstance(input_data, str) else input_data.get(\"text\", \"\"))\n",
    "    elif route == \"vision\":\n",
    "        print(\"[Router] Using Vision LLM\")\n",
    "        return vision_llm(input_data[\"image\"], input_data.get(\"text\", \"\"))\n",
    "    else:\n",
    "        return \"Unable to route input.\""
   ]
  },
  {
   "cell_type": "code",
   "execution_count": 16,
   "id": "d3792478",
   "metadata": {},
   "outputs": [
    {
     "name": "stdout",
     "output_type": "stream",
     "text": [
      "TEXT TEST:\n",
      "[Router] Using Text LLM\n",
      "Result: The capital of Jordan is Amman.\n",
      "\n",
      "IMAGE TEST:\n",
      "[Router] Using Vision LLM\n",
      "Result: The image shows a ginger tabby cat sitting on a paved surface. The cat has a rich orange coat with distinct stripes and is looking directly at the camera. In the background, there is a blurred wooden fence and some greenery. The setting appears to be outdoors.\n"
     ]
    }
   ],
   "source": [
    "if __name__ == \"__main__\":\n",
    "    #test with text\n",
    "    print(\"TEXT TEST:\")\n",
    "    result = main_router(\"What is the capital of Jordan?\")\n",
    "    print(\"Result:\", result)\n",
    "\n",
    "    #test with image\n",
    "    print(\"\\nIMAGE TEST:\")\n",
    "    result = main_router({\"image\": \"cat.jpg\", \"text\": \"Describe this image.\"})\n",
    "    print(\"Result:\", result)"
   ]
  },
  {
   "cell_type": "code",
   "execution_count": null,
   "id": "e40c3da1",
   "metadata": {},
   "outputs": [],
   "source": []
  }
 ],
 "metadata": {
  "kernelspec": {
   "display_name": ".venv",
   "language": "python",
   "name": "python3"
  },
  "language_info": {
   "codemirror_mode": {
    "name": "ipython",
    "version": 3
   },
   "file_extension": ".py",
   "mimetype": "text/x-python",
   "name": "python",
   "nbconvert_exporter": "python",
   "pygments_lexer": "ipython3",
   "version": "3.13.0"
  }
 },
 "nbformat": 4,
 "nbformat_minor": 5
}
